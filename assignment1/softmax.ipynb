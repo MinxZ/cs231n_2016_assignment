{
 "cells": [
  {
   "cell_type": "markdown",
   "metadata": {},
   "source": [
    "# Softmax exercise\n",
    "\n",
    "*Complete and hand in this completed worksheet (including its outputs and any supporting code outside of the worksheet) with your assignment submission. For more details see the [assignments page](http://vision.stanford.edu/teaching/cs231n/assignments.html) on the course website.*\n",
    "\n",
    "This exercise is analogous to the SVM exercise. You will:\n",
    "\n",
    "- implement a fully-vectorized **loss function** for the Softmax classifier\n",
    "- implement the fully-vectorized expression for its **analytic gradient**\n",
    "- **check your implementation** with numerical gradient\n",
    "- use a validation set to **tune the learning rate and regularization** strength\n",
    "- **optimize** the loss function with **SGD**\n",
    "- **visualize** the final learned weights\n"
   ]
  },
  {
   "cell_type": "code",
   "execution_count": 2,
   "metadata": {
    "collapsed": false
   },
   "outputs": [],
   "source": [
    "import random\n",
    "import numpy as np\n",
    "from cs231n.data_utils import load_CIFAR10\n",
    "import matplotlib.pyplot as plt\n",
    "%matplotlib inline\n",
    "plt.rcParams['figure.figsize'] = (10.0, 8.0) # set default size of plots\n",
    "plt.rcParams['image.interpolation'] = 'nearest'\n",
    "plt.rcParams['image.cmap'] = 'gray'\n",
    "\n",
    "# for auto-reloading extenrnal modules\n",
    "# see http://stackoverflow.com/questions/1907993/autoreload-of-modules-in-ipython\n",
    "%load_ext autoreload\n",
    "%autoreload 2"
   ]
  },
  {
   "cell_type": "code",
   "execution_count": 3,
   "metadata": {
    "collapsed": false
   },
   "outputs": [
    {
     "name": "stdout",
     "output_type": "stream",
     "text": [
      "Train data shape:  (10000, 3073)\n",
      "Train labels shape:  (10000,)\n",
      "Validation data shape:  (1000, 3073)\n",
      "Validation labels shape:  (1000,)\n",
      "Test data shape:  (1000, 3073)\n",
      "Test labels shape:  (1000,)\n",
      "dev data shape:  (500, 3073)\n",
      "dev labels shape:  (500,)\n"
     ]
    }
   ],
   "source": [
    "def get_CIFAR10_data(num_training=10000, num_validation=1000, num_test=1000, num_dev=500):\n",
    "  \"\"\"\n",
    "  Load the CIFAR-10 dataset from disk and perform preprocessing to prepare\n",
    "  it for the linear classifier. These are the same steps as we used for the\n",
    "  SVM, but condensed to a single function.  \n",
    "  \"\"\"\n",
    "  # Load the raw CIFAR-10 data\n",
    "  cifar10_dir = 'cs231n/datasets/cifar-10-batches-py'\n",
    "  X_train, y_train, X_test, y_test = load_CIFAR10(cifar10_dir)\n",
    "  \n",
    "  # subsample the data\n",
    "  mask = range(num_training, num_training + num_validation)\n",
    "  X_val = X_train[mask]\n",
    "  y_val = y_train[mask]\n",
    "  mask = range(num_training)\n",
    "  X_train = X_train[mask]\n",
    "  y_train = y_train[mask]\n",
    "  mask = range(num_test)\n",
    "  X_test = X_test[mask]\n",
    "  y_test = y_test[mask]\n",
    "  mask = np.random.choice(num_training, num_dev, replace=False)\n",
    "  X_dev = X_train[mask]\n",
    "  y_dev = y_train[mask]\n",
    "  \n",
    "  # Preprocessing: reshape the image data into rows\n",
    "  X_train = np.reshape(X_train, (X_train.shape[0], -1))\n",
    "  X_val = np.reshape(X_val, (X_val.shape[0], -1))\n",
    "  X_test = np.reshape(X_test, (X_test.shape[0], -1))\n",
    "  X_dev = np.reshape(X_dev, (X_dev.shape[0], -1))\n",
    "  \n",
    "  # Normalize the data: subtract the mean image\n",
    "  mean_image = np.mean(X_train, axis = 0)\n",
    "  X_train -= mean_image\n",
    "  X_val -= mean_image\n",
    "  X_test -= mean_image\n",
    "  X_dev -= mean_image\n",
    "  \n",
    "  # add bias dimension and transform into columns\n",
    "  X_train = np.hstack([X_train, np.ones((X_train.shape[0], 1))])\n",
    "  X_val = np.hstack([X_val, np.ones((X_val.shape[0], 1))])\n",
    "  X_test = np.hstack([X_test, np.ones((X_test.shape[0], 1))])\n",
    "  X_dev = np.hstack([X_dev, np.ones((X_dev.shape[0], 1))])\n",
    "  \n",
    "  return X_train, y_train, X_val, y_val, X_test, y_test, X_dev, y_dev\n",
    "\n",
    "\n",
    "# Invoke the above function to get our data.\n",
    "X_train, y_train, X_val, y_val, X_test, y_test, X_dev, y_dev = get_CIFAR10_data()\n",
    "print 'Train data shape: ', X_train.shape\n",
    "print 'Train labels shape: ', y_train.shape\n",
    "print 'Validation data shape: ', X_val.shape\n",
    "print 'Validation labels shape: ', y_val.shape\n",
    "print 'Test data shape: ', X_test.shape\n",
    "print 'Test labels shape: ', y_test.shape\n",
    "print 'dev data shape: ', X_dev.shape\n",
    "print 'dev labels shape: ', y_dev.shape"
   ]
  },
  {
   "cell_type": "markdown",
   "metadata": {},
   "source": [
    "## Softmax Classifier\n",
    "\n",
    "Your code for this section will all be written inside **cs231n/classifiers/softmax.py**. \n"
   ]
  },
  {
   "cell_type": "code",
   "execution_count": 5,
   "metadata": {
    "collapsed": false
   },
   "outputs": [
    {
     "name": "stdout",
     "output_type": "stream",
     "text": [
      "loss: 2.432683\n",
      "sanity check: 2.302585\n"
     ]
    }
   ],
   "source": [
    "# First implement the naive softmax loss function with nested loops.\n",
    "# Open the file cs231n/classifiers/softmax.py and implement the\n",
    "# softmax_loss_naive function.\n",
    "\n",
    "from cs231n.classifiers.softmax import softmax_loss_naive\n",
    "import time\n",
    "\n",
    "# Generate a random softmax weight matrix and use it to compute the loss.\n",
    "W = np.random.randn(3073, 10) * 0.0001\n",
    "loss, grad = softmax_loss_naive(W, X_dev, y_dev, 0.0)\n",
    "\n",
    "# As a rough sanity check, our loss should be something close to -log(0.1).\n",
    "print 'loss: %f' % loss\n",
    "print 'sanity check: %f' % (-np.log(0.1))"
   ]
  },
  {
   "cell_type": "markdown",
   "metadata": {},
   "source": [
    "## Inline Question 1:\n",
    "Why do we expect our loss to be close to -log(0.1)? Explain briefly.**\n",
    "\n",
    "**Your answer:** *Fill this in*\n"
   ]
  },
  {
   "cell_type": "code",
   "execution_count": 6,
   "metadata": {
    "collapsed": false
   },
   "outputs": [
    {
     "name": "stdout",
     "output_type": "stream",
     "text": [
      "numerical: 1.156365 analytic: 1.156365, relative error: 2.366238e-08\n",
      "numerical: 0.814486 analytic: 0.814486, relative error: 4.675568e-08\n",
      "numerical: 2.418704 analytic: 2.418704, relative error: 1.216433e-08\n",
      "numerical: -2.343257 analytic: -2.343257, relative error: 1.118676e-08\n",
      "numerical: -1.097215 analytic: -1.097215, relative error: 3.635785e-08\n",
      "numerical: 2.830552 analytic: 2.830552, relative error: 1.943656e-08\n",
      "numerical: -0.250878 analytic: -0.250878, relative error: 9.993139e-08\n",
      "numerical: -1.195138 analytic: -1.195138, relative error: 2.215314e-08\n",
      "numerical: -0.501400 analytic: -0.501401, relative error: 1.118267e-07\n",
      "numerical: -2.415427 analytic: -2.415427, relative error: 1.884991e-08\n",
      "numerical: 0.255028 analytic: 0.255028, relative error: 2.199624e-08\n",
      "numerical: -0.721165 analytic: -0.721165, relative error: 4.152536e-08\n",
      "numerical: 1.284478 analytic: 1.284478, relative error: 4.156040e-08\n",
      "numerical: 1.556209 analytic: 1.556209, relative error: 7.700800e-08\n",
      "numerical: 0.127849 analytic: 0.127849, relative error: 1.162335e-06\n",
      "numerical: 0.882594 analytic: 0.882594, relative error: 2.450313e-08\n",
      "numerical: -2.117595 analytic: -2.117595, relative error: 4.477225e-09\n",
      "numerical: 1.802371 analytic: 1.802371, relative error: 1.168970e-08\n",
      "numerical: 2.061934 analytic: 2.061934, relative error: 5.598532e-08\n",
      "numerical: -0.084806 analytic: -0.084806, relative error: 1.632906e-07\n"
     ]
    }
   ],
   "source": [
    "# Complete the implementation of softmax_loss_naive and implement a (naive)\n",
    "# version of the gradient that uses nested loops.\n",
    "loss, grad = softmax_loss_naive(W, X_dev, y_dev, 0.0)\n",
    "\n",
    "# As we did for the SVM, use numeric gradient checking as a debugging tool.\n",
    "# The numeric gradient should be close to the analytic gradient.\n",
    "from cs231n.gradient_check import grad_check_sparse\n",
    "f = lambda w: softmax_loss_naive(w, X_dev, y_dev, 0.0)[0]\n",
    "grad_numerical = grad_check_sparse(f, W, grad, 10)\n",
    "\n",
    "# similar to SVM case, do another gradient check with regularization\n",
    "loss, grad = softmax_loss_naive(W, X_dev, y_dev, 1e2)\n",
    "f = lambda w: softmax_loss_naive(w, X_dev, y_dev, 1e2)[0]\n",
    "grad_numerical = grad_check_sparse(f, W, grad, 10)"
   ]
  },
  {
   "cell_type": "code",
   "execution_count": 7,
   "metadata": {
    "collapsed": false
   },
   "outputs": [
    {
     "name": "stdout",
     "output_type": "stream",
     "text": [
      "naive loss: 2.432683e+00 computed in 0.415309s\n",
      "vectorized loss: 2.432683e+00 computed in 0.046137s\n",
      "Loss difference: 0.000000\n",
      "Gradient difference: 0.000000\n"
     ]
    }
   ],
   "source": [
    "# Now that we have a naive implementation of the softmax loss function and its gradient,\n",
    "# implement a vectorized version in softmax_loss_vectorized.\n",
    "# The two versions should compute the same results, but the vectorized version should be\n",
    "# much faster.\n",
    "tic = time.time()\n",
    "loss_naive, grad_naive = softmax_loss_naive(W, X_dev, y_dev, 0.00001)\n",
    "toc = time.time()\n",
    "print 'naive loss: %e computed in %fs' % (loss_naive, toc - tic)\n",
    "\n",
    "from cs231n.classifiers.softmax import softmax_loss_vectorized\n",
    "tic = time.time()\n",
    "loss_vectorized, grad_vectorized = softmax_loss_vectorized(W, X_dev, y_dev, 0.00001)\n",
    "toc = time.time()\n",
    "print 'vectorized loss: %e computed in %fs' % (loss_vectorized, toc - tic)\n",
    "\n",
    "# As we did for the SVM, we use the Frobenius norm to compare the two versions\n",
    "# of the gradient.\n",
    "grad_difference = np.linalg.norm(grad_naive - grad_vectorized, ord='fro')\n",
    "print 'Loss difference: %f' % np.abs(loss_naive - loss_vectorized)\n",
    "print 'Gradient difference: %f' % grad_difference"
   ]
  },
  {
   "cell_type": "code",
   "execution_count": 11,
   "metadata": {
    "collapsed": false
   },
   "outputs": [],
   "source": [
    "f = np.random.rand(500,10)\n",
    "f -= np.max(f, axis = 1).reshape(f.shape[0],-1)"
   ]
  },
  {
   "cell_type": "code",
   "execution_count": 27,
   "metadata": {
    "collapsed": false
   },
   "outputs": [
    {
     "name": "stderr",
     "output_type": "stream",
     "text": [
      "cs231n/classifiers/softmax.py:109: RuntimeWarning: divide by zero encountered in log\n",
      "  \n",
      "cs231n/classifiers/softmax.py:116: RuntimeWarning: overflow encountered in double_scalars\n",
      "  loss += 0.5*reg*np.sum(W*W)\n",
      "cs231n/classifiers/softmax.py:116: RuntimeWarning: overflow encountered in multiply\n",
      "  loss += 0.5*reg*np.sum(W*W)\n",
      "cs231n/classifiers/softmax.py:105: RuntimeWarning: overflow encountered in subtract\n",
      "  f = X.dot(W)\n",
      "cs231n/classifiers/softmax.py:105: RuntimeWarning: invalid value encountered in subtract\n",
      "  f = X.dot(W)\n",
      "cs231n/classifiers/softmax.py:118: RuntimeWarning: overflow encountered in multiply\n",
      "  '''\n",
      "cs231n/classifiers/linear_classifier.py:69: RuntimeWarning: overflow encountered in multiply\n",
      "  self.W -= learning_rate * grad\n"
     ]
    },
    {
     "name": "stdout",
     "output_type": "stream",
     "text": [
      "lr 1.000000e-10 reg 1.000000e-03 train accuracy: 0.105667 val accuracy: 0.114000\n",
      "lr 1.000000e-10 reg 1.000000e-02 train accuracy: 0.083200 val accuracy: 0.073000\n",
      "lr 1.000000e-10 reg 1.000000e-01 train accuracy: 0.124067 val accuracy: 0.113000\n",
      "lr 1.000000e-10 reg 1.000000e+00 train accuracy: 0.096333 val accuracy: 0.100000\n",
      "lr 1.000000e-10 reg 1.000000e+01 train accuracy: 0.096467 val accuracy: 0.089000\n",
      "lr 1.000000e-10 reg 1.000000e+02 train accuracy: 0.123800 val accuracy: 0.110000\n",
      "lr 1.000000e-10 reg 1.000000e+03 train accuracy: 0.083133 val accuracy: 0.077000\n",
      "lr 1.000000e-10 reg 1.000000e+04 train accuracy: 0.087933 val accuracy: 0.080000\n",
      "lr 1.000000e-10 reg 1.000000e+05 train accuracy: 0.078667 val accuracy: 0.087000\n",
      "lr 1.000000e-10 reg 1.000000e+06 train accuracy: 0.105600 val accuracy: 0.102000\n",
      "lr 1.668101e-08 reg 1.000000e-03 train accuracy: 0.102267 val accuracy: 0.102000\n",
      "lr 1.668101e-08 reg 1.000000e-02 train accuracy: 0.089133 val accuracy: 0.100000\n",
      "lr 1.668101e-08 reg 1.000000e-01 train accuracy: 0.103933 val accuracy: 0.089000\n",
      "lr 1.668101e-08 reg 1.000000e+00 train accuracy: 0.122733 val accuracy: 0.137000\n",
      "lr 1.668101e-08 reg 1.000000e+01 train accuracy: 0.118800 val accuracy: 0.112000\n",
      "lr 1.668101e-08 reg 1.000000e+02 train accuracy: 0.080133 val accuracy: 0.073000\n",
      "lr 1.668101e-08 reg 1.000000e+03 train accuracy: 0.154800 val accuracy: 0.143000\n",
      "lr 1.668101e-08 reg 1.000000e+04 train accuracy: 0.109333 val accuracy: 0.124000\n",
      "lr 1.668101e-08 reg 1.000000e+05 train accuracy: 0.142067 val accuracy: 0.127000\n",
      "lr 1.668101e-08 reg 1.000000e+06 train accuracy: 0.123400 val accuracy: 0.130000\n",
      "lr 2.782559e-06 reg 1.000000e-03 train accuracy: 0.277933 val accuracy: 0.246000\n",
      "lr 2.782559e-06 reg 1.000000e-02 train accuracy: 0.286867 val accuracy: 0.253000\n",
      "lr 2.782559e-06 reg 1.000000e-01 train accuracy: 0.273133 val accuracy: 0.250000\n",
      "lr 2.782559e-06 reg 1.000000e+00 train accuracy: 0.282467 val accuracy: 0.242000\n",
      "lr 2.782559e-06 reg 1.000000e+01 train accuracy: 0.276000 val accuracy: 0.248000\n",
      "lr 2.782559e-06 reg 1.000000e+02 train accuracy: 0.279800 val accuracy: 0.247000\n",
      "lr 2.782559e-06 reg 1.000000e+03 train accuracy: 0.299267 val accuracy: 0.251000\n",
      "lr 2.782559e-06 reg 1.000000e+04 train accuracy: 0.350000 val accuracy: 0.303000\n",
      "lr 2.782559e-06 reg 1.000000e+05 train accuracy: 0.291533 val accuracy: 0.286000\n",
      "lr 2.782559e-06 reg 1.000000e+06 train accuracy: 0.095000 val accuracy: 0.101000\n",
      "lr 4.641589e-04 reg 1.000000e-03 train accuracy: 0.295000 val accuracy: 0.269000\n",
      "lr 4.641589e-04 reg 1.000000e-02 train accuracy: 0.300867 val accuracy: 0.257000\n",
      "lr 4.641589e-04 reg 1.000000e-01 train accuracy: 0.222800 val accuracy: 0.190000\n",
      "lr 4.641589e-04 reg 1.000000e+00 train accuracy: 0.248067 val accuracy: 0.221000\n",
      "lr 4.641589e-04 reg 1.000000e+01 train accuracy: 0.197400 val accuracy: 0.172000\n",
      "lr 4.641589e-04 reg 1.000000e+02 train accuracy: 0.182933 val accuracy: 0.188000\n",
      "lr 4.641589e-04 reg 1.000000e+03 train accuracy: 0.116000 val accuracy: 0.125000\n",
      "lr 4.641589e-04 reg 1.000000e+04 train accuracy: 0.076067 val accuracy: 0.070000\n",
      "lr 4.641589e-04 reg 1.000000e+05 train accuracy: 0.077533 val accuracy: 0.085000\n",
      "lr 4.641589e-04 reg 1.000000e+06 train accuracy: 0.107333 val accuracy: 0.088000\n",
      "lr 7.742637e-02 reg 1.000000e-03 train accuracy: 0.276867 val accuracy: 0.239000\n",
      "lr 7.742637e-02 reg 1.000000e-02 train accuracy: 0.264200 val accuracy: 0.250000\n",
      "lr 7.742637e-02 reg 1.000000e-01 train accuracy: 0.246667 val accuracy: 0.238000\n",
      "lr 7.742637e-02 reg 1.000000e+00 train accuracy: 0.173800 val accuracy: 0.172000\n",
      "lr 7.742637e-02 reg 1.000000e+01 train accuracy: 0.131800 val accuracy: 0.136000\n",
      "lr 7.742637e-02 reg 1.000000e+02 train accuracy: 0.050000 val accuracy: 0.044000\n",
      "lr 7.742637e-02 reg 1.000000e+03 train accuracy: 0.078800 val accuracy: 0.068000\n",
      "lr 7.742637e-02 reg 1.000000e+04 train accuracy: 0.054200 val accuracy: 0.059000\n",
      "lr 7.742637e-02 reg 1.000000e+05 train accuracy: 0.100133 val accuracy: 0.089000\n",
      "lr 7.742637e-02 reg 1.000000e+06 train accuracy: 0.100133 val accuracy: 0.089000\n",
      "lr 1.291550e+01 reg 1.000000e-03 train accuracy: 0.232467 val accuracy: 0.209000\n",
      "lr 1.291550e+01 reg 1.000000e-02 train accuracy: 0.183733 val accuracy: 0.174000\n",
      "lr 1.291550e+01 reg 1.000000e-01 train accuracy: 0.152000 val accuracy: 0.143000\n",
      "lr 1.291550e+01 reg 1.000000e+00 train accuracy: 0.056200 val accuracy: 0.071000\n",
      "lr 1.291550e+01 reg 1.000000e+01 train accuracy: 0.073200 val accuracy: 0.087000\n",
      "lr 1.291550e+01 reg 1.000000e+02 train accuracy: 0.100133 val accuracy: 0.089000\n",
      "lr 1.291550e+01 reg 1.000000e+03 train accuracy: 0.100133 val accuracy: 0.089000\n",
      "lr 1.291550e+01 reg 1.000000e+04 train accuracy: 0.100133 val accuracy: 0.089000\n",
      "lr 1.291550e+01 reg 1.000000e+05 train accuracy: 0.100133 val accuracy: 0.089000\n",
      "lr 1.291550e+01 reg 1.000000e+06 train accuracy: 0.100133 val accuracy: 0.089000\n",
      "lr 2.154435e+03 reg 1.000000e-03 train accuracy: 0.120067 val accuracy: 0.102000\n",
      "lr 2.154435e+03 reg 1.000000e-02 train accuracy: 0.065400 val accuracy: 0.074000\n",
      "lr 2.154435e+03 reg 1.000000e-01 train accuracy: 0.087733 val accuracy: 0.082000\n",
      "lr 2.154435e+03 reg 1.000000e+00 train accuracy: 0.100133 val accuracy: 0.089000\n",
      "lr 2.154435e+03 reg 1.000000e+01 train accuracy: 0.100133 val accuracy: 0.089000\n",
      "lr 2.154435e+03 reg 1.000000e+02 train accuracy: 0.100133 val accuracy: 0.089000\n",
      "lr 2.154435e+03 reg 1.000000e+03 train accuracy: 0.100133 val accuracy: 0.089000\n",
      "lr 2.154435e+03 reg 1.000000e+04 train accuracy: 0.100133 val accuracy: 0.089000\n",
      "lr 2.154435e+03 reg 1.000000e+05 train accuracy: 0.100133 val accuracy: 0.089000\n",
      "lr 2.154435e+03 reg 1.000000e+06 train accuracy: 0.100133 val accuracy: 0.089000\n",
      "lr 3.593814e+05 reg 1.000000e-03 train accuracy: 0.050867 val accuracy: 0.057000\n",
      "lr 3.593814e+05 reg 1.000000e-02 train accuracy: 0.100133 val accuracy: 0.089000\n",
      "lr 3.593814e+05 reg 1.000000e-01 train accuracy: 0.100133 val accuracy: 0.089000\n",
      "lr 3.593814e+05 reg 1.000000e+00 train accuracy: 0.100133 val accuracy: 0.089000\n",
      "lr 3.593814e+05 reg 1.000000e+01 train accuracy: 0.100133 val accuracy: 0.089000\n",
      "lr 3.593814e+05 reg 1.000000e+02 train accuracy: 0.100133 val accuracy: 0.089000\n",
      "lr 3.593814e+05 reg 1.000000e+03 train accuracy: 0.100133 val accuracy: 0.089000\n",
      "lr 3.593814e+05 reg 1.000000e+04 train accuracy: 0.100133 val accuracy: 0.089000\n",
      "lr 3.593814e+05 reg 1.000000e+05 train accuracy: 0.100133 val accuracy: 0.089000\n",
      "lr 3.593814e+05 reg 1.000000e+06 train accuracy: 0.100133 val accuracy: 0.089000\n",
      "lr 5.994843e+07 reg 1.000000e-03 train accuracy: 0.100133 val accuracy: 0.089000\n",
      "lr 5.994843e+07 reg 1.000000e-02 train accuracy: 0.100133 val accuracy: 0.089000\n",
      "lr 5.994843e+07 reg 1.000000e-01 train accuracy: 0.100133 val accuracy: 0.089000\n",
      "lr 5.994843e+07 reg 1.000000e+00 train accuracy: 0.100133 val accuracy: 0.089000\n",
      "lr 5.994843e+07 reg 1.000000e+01 train accuracy: 0.100133 val accuracy: 0.089000\n",
      "lr 5.994843e+07 reg 1.000000e+02 train accuracy: 0.100133 val accuracy: 0.089000\n",
      "lr 5.994843e+07 reg 1.000000e+03 train accuracy: 0.100133 val accuracy: 0.089000\n",
      "lr 5.994843e+07 reg 1.000000e+04 train accuracy: 0.100133 val accuracy: 0.089000\n",
      "lr 5.994843e+07 reg 1.000000e+05 train accuracy: 0.100133 val accuracy: 0.089000\n",
      "lr 5.994843e+07 reg 1.000000e+06 train accuracy: 0.100133 val accuracy: 0.089000\n",
      "lr 1.000000e+10 reg 1.000000e-03 train accuracy: 0.100133 val accuracy: 0.089000\n",
      "lr 1.000000e+10 reg 1.000000e-02 train accuracy: 0.100133 val accuracy: 0.089000\n",
      "lr 1.000000e+10 reg 1.000000e-01 train accuracy: 0.100133 val accuracy: 0.089000\n",
      "lr 1.000000e+10 reg 1.000000e+00 train accuracy: 0.100133 val accuracy: 0.089000\n",
      "lr 1.000000e+10 reg 1.000000e+01 train accuracy: 0.100133 val accuracy: 0.089000\n",
      "lr 1.000000e+10 reg 1.000000e+02 train accuracy: 0.100133 val accuracy: 0.089000\n",
      "lr 1.000000e+10 reg 1.000000e+03 train accuracy: 0.100133 val accuracy: 0.089000\n",
      "lr 1.000000e+10 reg 1.000000e+04 train accuracy: 0.100133 val accuracy: 0.089000\n",
      "lr 1.000000e+10 reg 1.000000e+05 train accuracy: 0.100133 val accuracy: 0.089000\n",
      "lr 1.000000e+10 reg 1.000000e+06 train accuracy: 0.100133 val accuracy: 0.089000\n",
      "best validation accuracy achieved during cross-validation: 0.303000\n"
     ]
    }
   ],
   "source": [
    "# Use the validation set to tune hyperparameters (regularization strength and\n",
    "# learning rate). You should experiment with different ranges for the learning\n",
    "# rates and regularization strengths; if you are careful you should be able to\n",
    "# get a classification accuracy of over 0.35 on the validation set.\n",
    "from cs231n.classifiers import Softmax\n",
    "results = {}\n",
    "best_val = -1\n",
    "best_softmax = None\n",
    "learning_rates = [1e-7, 5e-7]\n",
    "regularization_strengths = [5e4, 1e8]\n",
    "learning_rates = [1e-7, 5e-7]\n",
    "regularization_strengths = [5e4, 1e8]\n",
    "learning_rates = np.logspace(-10, 10, 10) # np.logspace(-10, 10, 8) #-10, -9, -8, -7, -6, -5, -4\n",
    "regularization_strengths = np.logspace(-3, 6, 10) # causes numeric issues: np.logspace(-5, 5, 8) #[-4, -3, -2, -1, 1, 2, 3, 4, 5, 6]\n",
    "################################################################################\n",
    "# TODO:                                                                        #\n",
    "# Use the validation set to set the learning rate and regularization strength. #\n",
    "# This should be identical to the validation that you did for the SVM; save    #\n",
    "# the best trained softmax classifer in best_softmax.                          #\n",
    "################################################################################\n",
    "iters = 100\n",
    "for lr in learning_rates:\n",
    "    for rs in regularization_strengths:\n",
    "        softmax = Softmax()\n",
    "        softmax.train(X_train, y_train, learning_rate=lr, reg=rs, num_iters=iters)\n",
    "        \n",
    "        y_train_pred = softmax.predict(X_train)\n",
    "        acc_train = np.mean(y_train == y_train_pred)\n",
    "        y_val_pred = softmax.predict(X_val)\n",
    "        acc_val = np.mean(y_val == y_val_pred)\n",
    "        \n",
    "        results[(lr, rs)] = (acc_train, acc_val)\n",
    "        \n",
    "        if best_val < acc_val:\n",
    "            best_val = acc_val\n",
    "            best_softmax = softmax\n",
    "################################################################################\n",
    "#                              END OF YOUR CODE                                #\n",
    "################################################################################\n",
    "    \n",
    "# Print out results.\n",
    "for lr, reg in sorted(results):\n",
    "    train_accuracy, val_accuracy = results[(lr, reg)]\n",
    "    print 'lr %e reg %e train accuracy: %f val accuracy: %f' % (\n",
    "                lr, reg, train_accuracy, val_accuracy)\n",
    "    \n",
    "print 'best validation accuracy achieved during cross-validation: %f' % best_val"
   ]
  },
  {
   "cell_type": "code",
   "execution_count": 28,
   "metadata": {
    "collapsed": false
   },
   "outputs": [
    {
     "name": "stdout",
     "output_type": "stream",
     "text": [
      "softmax on raw pixels final test set accuracy: 0.349000\n"
     ]
    }
   ],
   "source": [
    "# evaluate on test set\n",
    "# Evaluate the best softmax on test set\n",
    "y_test_pred = best_softmax.predict(X_test)\n",
    "test_accuracy = np.mean(y_test == y_test_pred)\n",
    "print 'softmax on raw pixels final test set accuracy: %f' % (test_accuracy, )"
   ]
  },
  {
   "cell_type": "code",
   "execution_count": 29,
   "metadata": {
    "collapsed": false
   },
   "outputs": [
    {
     "data": {
      "image/png": "[encoded data removed]",
      "text/plain": [
       "<matplotlib.figure.Figure at 0x1113171d0>"
      ]
     },
     "metadata": {},
     "output_type": "display_data"
    }
   ],
   "source": [
    "# Visualize the learned weights for each class\n",
    "w = best_softmax.W[:-1,:] # strip out the bias\n",
    "w = w.reshape(32, 32, 3, 10)\n",
    "\n",
    "w_min, w_max = np.min(w), np.max(w)\n",
    "\n",
    "classes = ['plane', 'car', 'bird', 'cat', 'deer', 'dog', 'frog', 'horse', 'ship', 'truck']\n",
    "for i in xrange(10):\n",
    "  plt.subplot(2, 5, i + 1)\n",
    "  \n",
    "  # Rescale the weights to be between 0 and 255\n",
    "  wimg = 255.0 * (w[:, :, :, i].squeeze() - w_min) / (w_max - w_min)\n",
    "  plt.imshow(wimg.astype('uint8'))\n",
    "  plt.axis('off')\n",
    "  plt.title(classes[i])"
   ]
  },
  {
   "cell_type": "code",
   "execution_count": null,
   "metadata": {
    "collapsed": true
   },
   "outputs": [],
   "source": []
  }
 ],
 "metadata": {
  "anaconda-cloud": {},
  "kernelspec": {
   "display_name": "Python [Root]",
   "language": "python",
   "name": "Python [Root]"
  },
  "language_info": {
   "codemirror_mode": {
    "name": "ipython",
    "version": 2
   },
   "file_extension": ".py",
   "mimetype": "text/x-python",
   "name": "python",
   "nbconvert_exporter": "python",
   "pygments_lexer": "ipython2",
   "version": "2.7.12"
  }
 },
 "nbformat": 4,
 "nbformat_minor": 0
}
